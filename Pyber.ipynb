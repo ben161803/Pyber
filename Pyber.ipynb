{
 "cells": [
  {
   "cell_type": "code",
   "execution_count": 1,
   "metadata": {},
   "outputs": [],
   "source": [
    "%matplotlib inline"
   ]
  },
  {
   "cell_type": "code",
   "execution_count": 2,
   "metadata": {},
   "outputs": [],
   "source": [
    "import matplotlib.pyplot as plt\n",
    "import numpy as np\n",
    "import pandas as pd"
   ]
  },
  {
   "cell_type": "code",
   "execution_count": 4,
   "metadata": {},
   "outputs": [
    {
     "name": "stdout",
     "output_type": "stream",
     "text": [
      "           city  driver_count   type\n",
      "0   Richardfort            38  Urban\n",
      "1  Williamsstad            59  Urban\n",
      "2   Port Angela            67  Urban\n",
      "3    Rodneyfort            34  Urban\n",
      "4   West Robert            39  Urban\n",
      "                 city                 date   fare        ride_id\n",
      "0  Lake Jonathanshire  2018-01-14 10:14:22  13.83  5739410935873\n",
      "1  South Michelleport  2018-03-04 18:24:09  30.24  2343912425577\n",
      "2  Port Samanthamouth  2018-02-24 04:29:00  33.44  2005065760003\n",
      "3          Rodneyfort  2018-02-10 23:22:03  23.44  5149245426178\n",
      "4          South Jack  2018-03-06 04:28:35  34.58  3908451377344\n"
     ]
    }
   ],
   "source": [
    "# Create a path to the csv and read it into a Pandas DataFrame\n",
    "city_df = pd.read_csv(\"raw_data/city_data.csv\")\n",
    "ride_df = pd.read_csv(\"raw_data/ride_data.csv\")\n",
    "\n",
    "print(city_df.head())\n",
    "print(ride_df.head())"
   ]
  },
  {
   "cell_type": "code",
   "execution_count": 8,
   "metadata": {},
   "outputs": [
    {
     "name": "stdout",
     "output_type": "stream",
     "text": [
      "            city  fare\n",
      "0    Amandaburgh    18\n",
      "1    Barajasview    22\n",
      "2  Barronchester    16\n",
      "3    Bethanyland    18\n",
      "4   Bradshawfurt    10\n",
      "            city    fare\n",
      "0    Amandaburgh  443.55\n",
      "1    Barajasview  557.31\n",
      "2  Barronchester  582.76\n",
      "3    Bethanyland  593.21\n",
      "4   Bradshawfurt  400.64\n"
     ]
    }
   ],
   "source": [
    "city_count = ride_df.groupby(['city'], as_index=False)['fare'].count()\n",
    "print(city_count.head())\n",
    "fare_sum = ride_df.groupby(['city'], as_index=False)['fare'].sum()\n",
    "print(fare_sum.head())"
   ]
  },
  {
   "cell_type": "code",
   "execution_count": 13,
   "metadata": {},
   "outputs": [
    {
     "data": {
      "text/html": [
       "<div>\n",
       "<style scoped>\n",
       "    .dataframe tbody tr th:only-of-type {\n",
       "        vertical-align: middle;\n",
       "    }\n",
       "\n",
       "    .dataframe tbody tr th {\n",
       "        vertical-align: top;\n",
       "    }\n",
       "\n",
       "    .dataframe thead th {\n",
       "        text-align: right;\n",
       "    }\n",
       "</style>\n",
       "<table border=\"1\" class=\"dataframe\">\n",
       "  <thead>\n",
       "    <tr style=\"text-align: right;\">\n",
       "      <th></th>\n",
       "      <th>city</th>\n",
       "      <th>Rides</th>\n",
       "      <th>Total Cost</th>\n",
       "    </tr>\n",
       "  </thead>\n",
       "  <tbody>\n",
       "    <tr>\n",
       "      <th>0</th>\n",
       "      <td>Amandaburgh</td>\n",
       "      <td>18</td>\n",
       "      <td>443.55</td>\n",
       "    </tr>\n",
       "    <tr>\n",
       "      <th>1</th>\n",
       "      <td>Barajasview</td>\n",
       "      <td>22</td>\n",
       "      <td>557.31</td>\n",
       "    </tr>\n",
       "    <tr>\n",
       "      <th>2</th>\n",
       "      <td>Barronchester</td>\n",
       "      <td>16</td>\n",
       "      <td>582.76</td>\n",
       "    </tr>\n",
       "    <tr>\n",
       "      <th>3</th>\n",
       "      <td>Bethanyland</td>\n",
       "      <td>18</td>\n",
       "      <td>593.21</td>\n",
       "    </tr>\n",
       "    <tr>\n",
       "      <th>4</th>\n",
       "      <td>Bradshawfurt</td>\n",
       "      <td>10</td>\n",
       "      <td>400.64</td>\n",
       "    </tr>\n",
       "  </tbody>\n",
       "</table>\n",
       "</div>"
      ],
      "text/plain": [
       "            city  Rides  Total Cost\n",
       "0    Amandaburgh     18      443.55\n",
       "1    Barajasview     22      557.31\n",
       "2  Barronchester     16      582.76\n",
       "3    Bethanyland     18      593.21\n",
       "4   Bradshawfurt     10      400.64"
      ]
     },
     "execution_count": 13,
     "metadata": {},
     "output_type": "execute_result"
    }
   ],
   "source": [
    "temp_df= pd.merge(city_count, fare_sum, on=\"city\")\n",
    "temp_df = temp_df.rename(columns={'fare_x': 'Rides', 'fare_y': 'Total Cost'})\n",
    "temp_df.head()"
   ]
  }
 ],
 "metadata": {
  "kernelspec": {
   "display_name": "Python 3",
   "language": "python",
   "name": "python3"
  },
  "language_info": {
   "codemirror_mode": {
    "name": "ipython",
    "version": 3
   },
   "file_extension": ".py",
   "mimetype": "text/x-python",
   "name": "python",
   "nbconvert_exporter": "python",
   "pygments_lexer": "ipython3",
   "version": "3.6.4"
  }
 },
 "nbformat": 4,
 "nbformat_minor": 2
}
