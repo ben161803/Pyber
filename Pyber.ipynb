{
 "cells": [
  {
   "cell_type": "code",
   "execution_count": 36,
   "metadata": {},
   "outputs": [],
   "source": [
    "%matplotlib inline\n",
    "import seaborn as sns; sns.set()"
   ]
  },
  {
   "cell_type": "code",
   "execution_count": 2,
   "metadata": {},
   "outputs": [],
   "source": [
    "import matplotlib.pyplot as plt\n",
    "import numpy as np\n",
    "import pandas as pd"
   ]
  },
  {
   "cell_type": "code",
   "execution_count": 4,
   "metadata": {},
   "outputs": [
    {
     "name": "stdout",
     "output_type": "stream",
     "text": [
      "           city  driver_count   type\n",
      "0   Richardfort            38  Urban\n",
      "1  Williamsstad            59  Urban\n",
      "2   Port Angela            67  Urban\n",
      "3    Rodneyfort            34  Urban\n",
      "4   West Robert            39  Urban\n",
      "                 city                 date   fare        ride_id\n",
      "0  Lake Jonathanshire  2018-01-14 10:14:22  13.83  5739410935873\n",
      "1  South Michelleport  2018-03-04 18:24:09  30.24  2343912425577\n",
      "2  Port Samanthamouth  2018-02-24 04:29:00  33.44  2005065760003\n",
      "3          Rodneyfort  2018-02-10 23:22:03  23.44  5149245426178\n",
      "4          South Jack  2018-03-06 04:28:35  34.58  3908451377344\n"
     ]
    }
   ],
   "source": [
    "# Create a path to the csv and read it into a Pandas DataFrame\n",
    "city_df = pd.read_csv(\"raw_data/city_data.csv\")\n",
    "ride_df = pd.read_csv(\"raw_data/ride_data.csv\")\n",
    "\n",
    "print(city_df.head())\n",
    "print(ride_df.head())"
   ]
  },
  {
   "cell_type": "code",
   "execution_count": 8,
   "metadata": {},
   "outputs": [
    {
     "name": "stdout",
     "output_type": "stream",
     "text": [
      "            city  fare\n",
      "0    Amandaburgh    18\n",
      "1    Barajasview    22\n",
      "2  Barronchester    16\n",
      "3    Bethanyland    18\n",
      "4   Bradshawfurt    10\n",
      "            city    fare\n",
      "0    Amandaburgh  443.55\n",
      "1    Barajasview  557.31\n",
      "2  Barronchester  582.76\n",
      "3    Bethanyland  593.21\n",
      "4   Bradshawfurt  400.64\n"
     ]
    }
   ],
   "source": [
    "city_count = ride_df.groupby(['city'], as_index=False)['fare'].count()\n",
    "print(city_count.head())\n",
    "fare_sum = ride_df.groupby(['city'], as_index=False)['fare'].sum()\n",
    "print(fare_sum.head())"
   ]
  },
  {
   "cell_type": "code",
   "execution_count": 13,
   "metadata": {},
   "outputs": [
    {
     "data": {
      "text/html": [
       "<div>\n",
       "<style scoped>\n",
       "    .dataframe tbody tr th:only-of-type {\n",
       "        vertical-align: middle;\n",
       "    }\n",
       "\n",
       "    .dataframe tbody tr th {\n",
       "        vertical-align: top;\n",
       "    }\n",
       "\n",
       "    .dataframe thead th {\n",
       "        text-align: right;\n",
       "    }\n",
       "</style>\n",
       "<table border=\"1\" class=\"dataframe\">\n",
       "  <thead>\n",
       "    <tr style=\"text-align: right;\">\n",
       "      <th></th>\n",
       "      <th>city</th>\n",
       "      <th>Rides</th>\n",
       "      <th>Total Cost</th>\n",
       "    </tr>\n",
       "  </thead>\n",
       "  <tbody>\n",
       "    <tr>\n",
       "      <th>0</th>\n",
       "      <td>Amandaburgh</td>\n",
       "      <td>18</td>\n",
       "      <td>443.55</td>\n",
       "    </tr>\n",
       "    <tr>\n",
       "      <th>1</th>\n",
       "      <td>Barajasview</td>\n",
       "      <td>22</td>\n",
       "      <td>557.31</td>\n",
       "    </tr>\n",
       "    <tr>\n",
       "      <th>2</th>\n",
       "      <td>Barronchester</td>\n",
       "      <td>16</td>\n",
       "      <td>582.76</td>\n",
       "    </tr>\n",
       "    <tr>\n",
       "      <th>3</th>\n",
       "      <td>Bethanyland</td>\n",
       "      <td>18</td>\n",
       "      <td>593.21</td>\n",
       "    </tr>\n",
       "    <tr>\n",
       "      <th>4</th>\n",
       "      <td>Bradshawfurt</td>\n",
       "      <td>10</td>\n",
       "      <td>400.64</td>\n",
       "    </tr>\n",
       "  </tbody>\n",
       "</table>\n",
       "</div>"
      ],
      "text/plain": [
       "            city  Rides  Total Cost\n",
       "0    Amandaburgh     18      443.55\n",
       "1    Barajasview     22      557.31\n",
       "2  Barronchester     16      582.76\n",
       "3    Bethanyland     18      593.21\n",
       "4   Bradshawfurt     10      400.64"
      ]
     },
     "execution_count": 13,
     "metadata": {},
     "output_type": "execute_result"
    }
   ],
   "source": [
    "temp_df= pd.merge(city_count, fare_sum, on=\"city\")\n",
    "temp_df = temp_df.rename(columns={'fare_x': 'Rides', 'fare_y': 'Total Cost'})\n",
    "temp_df.head()"
   ]
  },
  {
   "cell_type": "code",
   "execution_count": 16,
   "metadata": {},
   "outputs": [
    {
     "data": {
      "text/html": [
       "<div>\n",
       "<style scoped>\n",
       "    .dataframe tbody tr th:only-of-type {\n",
       "        vertical-align: middle;\n",
       "    }\n",
       "\n",
       "    .dataframe tbody tr th {\n",
       "        vertical-align: top;\n",
       "    }\n",
       "\n",
       "    .dataframe thead th {\n",
       "        text-align: right;\n",
       "    }\n",
       "</style>\n",
       "<table border=\"1\" class=\"dataframe\">\n",
       "  <thead>\n",
       "    <tr style=\"text-align: right;\">\n",
       "      <th></th>\n",
       "      <th>city</th>\n",
       "      <th>Rides</th>\n",
       "      <th>Total Cost</th>\n",
       "      <th>Avg Cost</th>\n",
       "    </tr>\n",
       "  </thead>\n",
       "  <tbody>\n",
       "    <tr>\n",
       "      <th>0</th>\n",
       "      <td>Amandaburgh</td>\n",
       "      <td>18</td>\n",
       "      <td>443.55</td>\n",
       "      <td>24.64</td>\n",
       "    </tr>\n",
       "    <tr>\n",
       "      <th>1</th>\n",
       "      <td>Barajasview</td>\n",
       "      <td>22</td>\n",
       "      <td>557.31</td>\n",
       "      <td>25.33</td>\n",
       "    </tr>\n",
       "    <tr>\n",
       "      <th>2</th>\n",
       "      <td>Barronchester</td>\n",
       "      <td>16</td>\n",
       "      <td>582.76</td>\n",
       "      <td>36.42</td>\n",
       "    </tr>\n",
       "    <tr>\n",
       "      <th>3</th>\n",
       "      <td>Bethanyland</td>\n",
       "      <td>18</td>\n",
       "      <td>593.21</td>\n",
       "      <td>32.96</td>\n",
       "    </tr>\n",
       "    <tr>\n",
       "      <th>4</th>\n",
       "      <td>Bradshawfurt</td>\n",
       "      <td>10</td>\n",
       "      <td>400.64</td>\n",
       "      <td>40.06</td>\n",
       "    </tr>\n",
       "  </tbody>\n",
       "</table>\n",
       "</div>"
      ],
      "text/plain": [
       "            city  Rides  Total Cost  Avg Cost\n",
       "0    Amandaburgh     18      443.55     24.64\n",
       "1    Barajasview     22      557.31     25.33\n",
       "2  Barronchester     16      582.76     36.42\n",
       "3    Bethanyland     18      593.21     32.96\n",
       "4   Bradshawfurt     10      400.64     40.06"
      ]
     },
     "execution_count": 16,
     "metadata": {},
     "output_type": "execute_result"
    }
   ],
   "source": [
    "temp_df['Avg Cost']=round(temp_df['Total Cost']/temp_df['Rides'],2)\n",
    "temp_df.head()"
   ]
  },
  {
   "cell_type": "code",
   "execution_count": 95,
   "metadata": {},
   "outputs": [
    {
     "data": {
      "text/html": [
       "<div>\n",
       "<style scoped>\n",
       "    .dataframe tbody tr th:only-of-type {\n",
       "        vertical-align: middle;\n",
       "    }\n",
       "\n",
       "    .dataframe tbody tr th {\n",
       "        vertical-align: top;\n",
       "    }\n",
       "\n",
       "    .dataframe thead th {\n",
       "        text-align: right;\n",
       "    }\n",
       "</style>\n",
       "<table border=\"1\" class=\"dataframe\">\n",
       "  <thead>\n",
       "    <tr style=\"text-align: right;\">\n",
       "      <th></th>\n",
       "      <th>City</th>\n",
       "      <th>Drivers</th>\n",
       "      <th>Type</th>\n",
       "      <th>Rides</th>\n",
       "      <th>Total Cost</th>\n",
       "      <th>Avg Cost</th>\n",
       "      <th>Color</th>\n",
       "    </tr>\n",
       "  </thead>\n",
       "  <tbody>\n",
       "    <tr>\n",
       "      <th>0</th>\n",
       "      <td>Richardfort</td>\n",
       "      <td>38</td>\n",
       "      <td>Urban</td>\n",
       "      <td>28</td>\n",
       "      <td>626.45</td>\n",
       "      <td>22.37</td>\n",
       "      <td>lightcoral</td>\n",
       "    </tr>\n",
       "    <tr>\n",
       "      <th>1</th>\n",
       "      <td>Williamsstad</td>\n",
       "      <td>59</td>\n",
       "      <td>Urban</td>\n",
       "      <td>23</td>\n",
       "      <td>560.33</td>\n",
       "      <td>24.36</td>\n",
       "      <td>lightcoral</td>\n",
       "    </tr>\n",
       "    <tr>\n",
       "      <th>2</th>\n",
       "      <td>Port Angela</td>\n",
       "      <td>67</td>\n",
       "      <td>Urban</td>\n",
       "      <td>19</td>\n",
       "      <td>452.90</td>\n",
       "      <td>23.84</td>\n",
       "      <td>lightcoral</td>\n",
       "    </tr>\n",
       "    <tr>\n",
       "      <th>3</th>\n",
       "      <td>Rodneyfort</td>\n",
       "      <td>34</td>\n",
       "      <td>Urban</td>\n",
       "      <td>23</td>\n",
       "      <td>658.19</td>\n",
       "      <td>28.62</td>\n",
       "      <td>lightcoral</td>\n",
       "    </tr>\n",
       "    <tr>\n",
       "      <th>4</th>\n",
       "      <td>West Robert</td>\n",
       "      <td>39</td>\n",
       "      <td>Urban</td>\n",
       "      <td>31</td>\n",
       "      <td>778.84</td>\n",
       "      <td>25.12</td>\n",
       "      <td>lightcoral</td>\n",
       "    </tr>\n",
       "  </tbody>\n",
       "</table>\n",
       "</div>"
      ],
      "text/plain": [
       "           City  Drivers   Type  Rides  Total Cost  Avg Cost       Color\n",
       "0   Richardfort       38  Urban     28      626.45     22.37  lightcoral\n",
       "1  Williamsstad       59  Urban     23      560.33     24.36  lightcoral\n",
       "2   Port Angela       67  Urban     19      452.90     23.84  lightcoral\n",
       "3    Rodneyfort       34  Urban     23      658.19     28.62  lightcoral\n",
       "4   West Robert       39  Urban     31      778.84     25.12  lightcoral"
      ]
     },
     "execution_count": 95,
     "metadata": {},
     "output_type": "execute_result"
    }
   ],
   "source": [
    "final_df= pd.merge(city_df, temp_df, on='city')\n",
    "final_df = final_df.rename(columns={'city': 'City', 'driver_count': 'Drivers', 'type': 'Type'})\n",
    "recolor = {'Urban': 'lightcoral', 'Suburban': 'lightskyblue', 'Rural': 'gold'}\n",
    "x = []\n",
    "final_df['Color']=''\n",
    "for i in range(0,len(final_df['City'])):\n",
    "    x.append(recolor[final_df['Type'][i]])\n",
    "final_df['Color'] = x\n",
    "final_df.head()"
   ]
  },
  {
   "cell_type": "code",
   "execution_count": 112,
   "metadata": {},
   "outputs": [
    {
     "data": {
      "text/plain": [
       "<function matplotlib.pyplot.show>"
      ]
     },
     "execution_count": 112,
     "metadata": {},
     "output_type": "execute_result"
    },
    {
     "data": {
      "image/png": "[encoded data removed]",
      "text/plain": [
       "<matplotlib.figure.Figure at 0x25e373db390>"
      ]
     },
     "metadata": {},
     "output_type": "display_data"
    }
   ],
   "source": [
    "plt.title(\"2016 Ride Share Data\")\n",
    "plt.xlabel(\"Total Rides\")\n",
    "plt.ylabel(\"Average Ride Cost (Dollars)\")\n",
    "colors = ['gold', 'lightskyblue', 'lightcoral']\n",
    "#sns.scatterplot(final_df['Rides'], final_df['Avg Cost'])\n",
    "ax  = plt.scatter(final_df['Rides'], final_df['Avg Cost'],c=final_df['Color'], s=final_df['Drivers']*5,alpha=.5)\n",
    "plt.show"
   ]
  },
  {
   "cell_type": "code",
   "execution_count": 55,
   "metadata": {},
   "outputs": [
    {
     "name": "stdout",
     "output_type": "stream",
     "text": [
      "       Type  Total Cost  Total Rides  Total Drivers\n",
      "0     Rural     4327.93          125             78\n",
      "1  Suburban    19356.33          625            490\n",
      "2     Urban    39854.38         1625           2405\n"
     ]
    }
   ],
   "source": [
    "bct = final_df.groupby(['Type'], as_index=False)['Total Cost'].sum()\n",
    "#tfbct['Perc'] = 100*tfbct['Total Cost']/tfbct['Total Cost'].sum()\n",
    "bct['Total Rides'] = final_df.groupby(['Type'], as_index=False)['Rides'].sum()['Rides']\n",
    "bct['Total Drivers'] = final_df.groupby(['Type'], as_index=False)['Drivers'].sum()['Drivers']\n",
    "print(bct)"
   ]
  },
  {
   "cell_type": "code",
   "execution_count": 82,
   "metadata": {},
   "outputs": [
    {
     "data": {
      "text/plain": [
       "([<matplotlib.patches.Wedge at 0x25e36ecb828>,\n",
       "  <matplotlib.patches.Wedge at 0x25e36ed32b0>,\n",
       "  <matplotlib.patches.Wedge at 0x25e36ed3d30>],\n",
       " [Text(-0.233596,1.07491,'Rural'),\n",
       "  Text(-1.08107,0.20317,'Suburban'),\n",
       "  Text(1.01327,-0.428113,'Urban')],\n",
       " [Text(-0.127416,0.586315,'6.8%'),\n",
       "  Text(-0.589677,0.11082,'30.5%'),\n",
       "  Text(0.552694,-0.233516,'62.7%')])"
      ]
     },
     "execution_count": 82,
     "metadata": {},
     "output_type": "execute_result"
    },
    {
     "data": {
      "image/png": "[encoded data removed]",
      "text/plain": [
       "<matplotlib.figure.Figure at 0x25e35a62e10>"
      ]
     },
     "metadata": {},
     "output_type": "display_data"
    }
   ],
   "source": [
    "plt.pie(bct['Total Cost'], labels=bct['Type'], colors=colors,\n",
    "        autopct=\"%1.1f%%\", shadow=True, startangle=90)"
   ]
  },
  {
   "cell_type": "code",
   "execution_count": 81,
   "metadata": {},
   "outputs": [
    {
     "data": {
      "text/plain": [
       "([<matplotlib.patches.Wedge at 0x25e358f3c18>,\n",
       "  <matplotlib.patches.Wedge at 0x25e356f1a58>,\n",
       "  <matplotlib.patches.Wedge at 0x25e35717160>],\n",
       " [Text(-0.181054,1.085,'Rural'),\n",
       "  Text(-1.00735,0.441865,'Suburban'),\n",
       "  Text(0.920883,-0.601643,'Urban')],\n",
       " [Text(-0.0987568,0.591817,'5.3%'),\n",
       "  Text(-0.549464,0.241017,'26.3%'),\n",
       "  Text(0.5023,-0.328169,'68.4%')])"
      ]
     },
     "execution_count": 81,
     "metadata": {},
     "output_type": "execute_result"
    },
    {
     "data": {
      "image/png": "[encoded data removed]",
      "text/plain": [
       "<matplotlib.figure.Figure at 0x25e35ae66a0>"
      ]
     },
     "metadata": {},
     "output_type": "display_data"
    }
   ],
   "source": [
    "plt.pie(bct['Total Rides'], labels=bct['Type'], colors= colors,\n",
    "        autopct=\"%1.1f%%\", shadow=True, startangle=90)"
   ]
  },
  {
   "cell_type": "code",
   "execution_count": 80,
   "metadata": {},
   "outputs": [
    {
     "data": {
      "text/plain": [
       "([<matplotlib.patches.Wedge at 0x25e35c500b8>,\n",
       "  <matplotlib.patches.Wedge at 0x25e35c57a58>,\n",
       "  <matplotlib.patches.Wedge at 0x25e35c57128>],\n",
       " [Text(-0.0905629,1.09627,'Rural'),\n",
       "  Text(-0.693922,0.853506,'Suburban'),\n",
       "  Text(0.621297,-0.907739,'Urban')],\n",
       " [Text(-0.049398,0.597963,'2.6%'),\n",
       "  Text(-0.378503,0.465549,'16.5%'),\n",
       "  Text(0.33889,-0.49513,'80.9%')])"
      ]
     },
     "execution_count": 80,
     "metadata": {},
     "output_type": "execute_result"
    },
    {
     "data": {
      "image/png": "[encoded data removed]",
      "text/plain": [
       "<matplotlib.figure.Figure at 0x25e35bf9a20>"
      ]
     },
     "metadata": {},
     "output_type": "display_data"
    }
   ],
   "source": [
    "plt.pie(bct['Total Drivers'], labels=bct['Type'], colors=colors,\n",
    "        autopct=\"%1.1f%%\", shadow=True, startangle=90)"
   ]
  }
 ],
 "metadata": {
  "kernelspec": {
   "display_name": "Python 3",
   "language": "python",
   "name": "python3"
  },
  "language_info": {
   "codemirror_mode": {
    "name": "ipython",
    "version": 3
   },
   "file_extension": ".py",
   "mimetype": "text/x-python",
   "name": "python",
   "nbconvert_exporter": "python",
   "pygments_lexer": "ipython3",
   "version": "3.6.4"
  }
 },
 "nbformat": 4,
 "nbformat_minor": 2
}
